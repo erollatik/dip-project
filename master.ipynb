from google.colab.patches import cv2_imshow  # Colab için özel gösterim fonksiyonu

# Görüntüyü bir Numpy array'e dönüştür
image_arr = np.array(image)

# Numpy array'i bir görüntü olarak göster
cv2_imshow(image_arr)  # cv2.imshow yerine cv2_imshow kullanılıyor
